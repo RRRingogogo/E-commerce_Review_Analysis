{
 "cells": [
  {
   "cell_type": "code",
   "execution_count": 4,
   "id": "97b6e4b9",
   "metadata": {},
   "outputs": [
    {
     "name": "stdout",
     "output_type": "stream",
     "text": [
      "   Unnamed: 0             date  length  \\\n",
      "0           0  2022/4/26 10:16      22   \n",
      "1           1    2022/6/4 4:25       8   \n",
      "2           2   2022/6/3 10:37     132   \n",
      "3           3  2022/5/10 18:32      16   \n",
      "4           4   2022/4/21 1:21       5   \n",
      "\n",
      "                                              corpus  stars  helpfulness  \\\n",
      "0  dress super cute comfy cant wait wear dress va...      5         1806   \n",
      "1                         cute lt3 like pls im broke      5         1150   \n",
      "2  oh im obsessed cutest dainty dress thats perfe...      5          734   \n",
      "3          love dress fits perfect size medium chest      5          378   \n",
      "4                               obsessed fit perfect      5          305   \n",
      "\n",
      "   Sentiment Score  \n",
      "0           0.8555  \n",
      "1           0.4588  \n",
      "2           0.9863  \n",
      "3           0.8360  \n",
      "4           0.6705  \n"
     ]
    }
   ],
   "source": [
    "import pandas as pd\n",
    "import nltk\n",
    "from nltk.sentiment import SentimentIntensityAnalyzer\n",
    "\n",
    "# 读取Excel文件\n",
    "data = pd.read_excel('all_comments.xlsx')\n",
    "\n",
    "# 提取评论列数据并处理空值\n",
    "comments = data['corpus'].fillna('')\n",
    "\n",
    "# 初始化情感分析器\n",
    "sia = SentimentIntensityAnalyzer()\n",
    "\n",
    "# 对每条评论进行情感分析并获取情感得分\n",
    "scores = [sia.polarity_scores(comment)['compound'] for comment in comments]\n",
    "\n",
    "# 将情感得分添加到数据框中\n",
    "data['Sentiment Score'] = scores\n",
    "\n",
    "# 打印结果或进行其他进一步的分析\n",
    "print(data.head())\n"
   ]
  },
  {
   "cell_type": "code",
   "execution_count": 5,
   "id": "19091929",
   "metadata": {},
   "outputs": [],
   "source": [
    "data.to_excel('Emotionalscore.xlsx', index=False)"
   ]
  },
  {
   "cell_type": "code",
   "execution_count": null,
   "id": "3c08bb94",
   "metadata": {},
   "outputs": [],
   "source": []
  }
 ],
 "metadata": {
  "kernelspec": {
   "display_name": "Python 3 (ipykernel)",
   "language": "python",
   "name": "python3"
  },
  "language_info": {
   "codemirror_mode": {
    "name": "ipython",
    "version": 3
   },
   "file_extension": ".py",
   "mimetype": "text/x-python",
   "name": "python",
   "nbconvert_exporter": "python",
   "pygments_lexer": "ipython3",
   "version": "3.8.8"
  }
 },
 "nbformat": 4,
 "nbformat_minor": 5
}
