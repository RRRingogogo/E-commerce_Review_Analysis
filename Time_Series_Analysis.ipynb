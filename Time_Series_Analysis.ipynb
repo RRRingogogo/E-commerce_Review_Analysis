import pandas as pd
import numpy as np
import statsmodels.api as sm
import matplotlib.pyplot as plt

# 读取 Excel 文件
data = pd.read_excel('timeseries_new.xlsx')

# 提取声誉列和日期列的数据
reputation = data['reputation']
#print(type(reputation))
dates = pd.to_datetime(data['date'])
#print(reputation)

# 构建 AR(1) 模型
model = sm.tsa.AutoReg(reputation, lags=3)
model_fit = model.fit()

# 预测声誉列的综合得分
predictions = model_fit.predict(start=len(reputation), end=len(reputation) + 10)

# 绘制拟合曲线和实际曲线对比图
plt.plot(dates, reputation.values, label='Actual')
plt.plot(predictions.index, predictions.values, label='Predicted')
plt.xlabel('Date')
plt.ylabel('Reputation Score')
plt.title('AR(1) Model Fit')
plt.legend()
plt.xticks(rotation=45)
plt.show()



